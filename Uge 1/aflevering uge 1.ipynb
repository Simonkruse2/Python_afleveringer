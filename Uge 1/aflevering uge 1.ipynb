{
 "cells": [
  {
   "cell_type": "markdown",
   "metadata": {},
   "source": [
    "# Class exercise 1:\n",
    "\n",
    "![](https://miro.medium.com/max/1266/1*Pb8oEA1nGIONsSJk7QSVzg.png)"
   ]
  },
  {
   "cell_type": "code",
   "execution_count": 1,
   "metadata": {},
   "outputs": [
    {
     "ename": "ValueError",
     "evalue": "invalid literal for int() with base 10: ''",
     "output_type": "error",
     "traceback": [
      "\u001b[1;31m---------------------------------------------------------------------------\u001b[0m",
      "\u001b[1;31mValueError\u001b[0m                                Traceback (most recent call last)",
      "\u001b[1;32m<ipython-input-1-e97614f6b4d4>\u001b[0m in \u001b[0;36m<module>\u001b[1;34m\u001b[0m\n\u001b[1;32m----> 1\u001b[1;33m \u001b[0mfloat1\u001b[0m \u001b[1;33m=\u001b[0m \u001b[0mint\u001b[0m\u001b[1;33m(\u001b[0m\u001b[0minput\u001b[0m\u001b[1;33m(\u001b[0m\u001b[1;34m\"Write the first number\"\u001b[0m\u001b[1;33m)\u001b[0m\u001b[1;33m)\u001b[0m\u001b[1;33m\u001b[0m\u001b[1;33m\u001b[0m\u001b[0m\n\u001b[0m\u001b[0;32m      2\u001b[0m \u001b[0mfloat2\u001b[0m \u001b[1;33m=\u001b[0m \u001b[0mfloat\u001b[0m\u001b[1;33m(\u001b[0m\u001b[0minput\u001b[0m\u001b[1;33m(\u001b[0m\u001b[1;34m\"Write the second number\"\u001b[0m\u001b[1;33m)\u001b[0m\u001b[1;33m)\u001b[0m\u001b[1;33m\u001b[0m\u001b[1;33m\u001b[0m\u001b[0m\n\u001b[0;32m      3\u001b[0m \u001b[0mprint\u001b[0m\u001b[1;33m(\u001b[0m\u001b[0mtype\u001b[0m\u001b[1;33m(\u001b[0m\u001b[0mfloat1\u001b[0m \u001b[1;33m*\u001b[0m \u001b[0mfloat2\u001b[0m\u001b[1;33m)\u001b[0m\u001b[1;33m)\u001b[0m\u001b[1;33m\u001b[0m\u001b[1;33m\u001b[0m\u001b[0m\n\u001b[0;32m      4\u001b[0m \u001b[0mfloat1\u001b[0m \u001b[1;33m*\u001b[0m \u001b[0mfloat2\u001b[0m\u001b[1;33m\u001b[0m\u001b[1;33m\u001b[0m\u001b[0m\n",
      "\u001b[1;31mValueError\u001b[0m: invalid literal for int() with base 10: ''"
     ]
    }
   ],
   "source": [
    "float1 = int(input(\"Write the first number\"))\n",
    "float2 = float(input(\"Write the second number\")) \n",
    "print(type(float1 * float2))\n",
    "float1 * float2\n"
   ]
  },
  {
   "cell_type": "code",
   "execution_count": 0,
   "metadata": {},
   "outputs": [],
   "source": [
    "%timeit 55000 in range(1000000)"
   ]
  },
  {
   "cell_type": "code",
   "execution_count": 0,
   "metadata": {},
   "outputs": [],
   "source": [
    "names = [\"Simon\",\"John\",\"Holger\",\"Karen\",\"Frank\",\"Franz\"]\n",
    "result = [name for name in names]\n",
    "result"
   ]
  },
  {
   "cell_type": "code",
   "execution_count": 0,
   "metadata": {},
   "outputs": [],
   "source": [
    "# opgave 1.A Iterate a list of names to return a list of the names starting with H\n",
    "names = [\"Simon\",\"John\",\"Holger\",\"Hans\",\"Frank\",\"Franz\"]\n",
    "namesWithH = [h for h in names if h[0].lower() == \"h\" ]\n",
    "namesWithH"
   ]
  },
  {
   "cell_type": "code",
   "execution_count": 0,
   "metadata": {},
   "outputs": [],
   "source": [
    "# opgave 1.B In one line create a list of the numbers 1-100 to the power of 3\n",
    "numbers = [value**3 for value in range(1,100)]\n",
    "numbers\n"
   ]
  },
  {
   "cell_type": "code",
   "execution_count": 0,
   "metadata": {},
   "outputs": [],
   "source": [
    "# opgave 1.C Iterate a list of names to create a list of tuples\n",
    "# where the tuples first value is the length of the name and the second is the name\n",
    "names = [\"Simon\",\"John\",\"Holger\",\"Hans\",\"Frank\",\"Franz\"]\n",
    "namesTuple = tuple([(len(name), name) for name in names])\n",
    "namesTuple"
   ]
  },
  {
   "cell_type": "code",
   "execution_count": 0,
   "metadata": {},
   "outputs": [],
   "source": [
    "# opgave 1.D Iterate over each character in a string and get only those that are nummeric\n",
    "string = \"a1b2c3dd55\"\n",
    "numbers = [n for n in string if n.isdigit()]\n",
    "numbers"
   ]
  },
  {
   "cell_type": "code",
   "execution_count": 0,
   "metadata": {},
   "outputs": [],
   "source": [
    "# opgave 1.E Using only a list comprehension wrapped in set() get all possible combination from throwing 2 dice\n",
    "results = {str(j) + \" + \" + str(i) for j in range(1,7) for i in range(1,7)}\n",
    "results\n",
    "            "
   ]
  },
  {
   "cell_type": "markdown",
   "metadata": {},
   "source": [
    "# Create 2 dictionary comprehensions to solve the following:\n",
    "\n"
   ]
  },
  {
   "cell_type": "code",
   "execution_count": 0,
   "metadata": {},
   "outputs": [],
   "source": [
    "# opgave 2.A Iterate a list of names and create a dictionary where key is the name and value is the length of the name\n",
    "dictNames = {name:len(name) for name in names}\n",
    "dictNames"
   ]
  },
  {
   "cell_type": "code",
   "execution_count": 0,
   "metadata": {},
   "outputs": [],
   "source": [
    "# opgave 2.B Iterate a list of numbers and create a dictionary with (key, value) being (number, squareroot of number)\n",
    "import math\n",
    "numb = [1, 49, 64, 81, 100]\n",
    "dictNumb = {number: math.sqrt(number) for number in numb}\n",
    "dictNumb"
   ]
  },
  {
   "cell_type": "code",
   "execution_count": 12,
   "metadata": {},
   "outputs": [
    {
     "data": {
      "text/plain": "{2: 2.778,\n 3: 5.556,\n 4: 8.333,\n 5: 11.111,\n 6: 13.889,\n 7: 16.667,\n 8: 13.889,\n 9: 11.111,\n 10: 8.333,\n 11: 5.556,\n 12: 2.778}"
     },
     "execution_count": 12,
     "metadata": {},
     "output_type": "execute_result"
    }
   ],
   "source": [
    "# opgave 3 Progammatically using loops create a small program to produce a dictionary\n",
    "# with all the 2 dice throw combinations as keys and their likelyhood in percent as values\n",
    "\n",
    "sum = [(j) + (i)for j in range(1,7) for i in range(1,7)]\n",
    "sumDict = {sumNumb: round((sum.count(sumNumb)*100/36),3) for sumNumb in sum}\n",
    "sumDict"
   ]
  }
 ],
 "metadata": {
  "kernelspec": {
   "display_name": "Python 3",
   "language": "python",
   "name": "python3"
  },
  "language_info": {
   "codemirror_mode": {
    "name": "ipython",
    "version": 3
   },
   "file_extension": ".py",
   "mimetype": "text/x-python",
   "name": "python",
   "nbconvert_exporter": "python",
   "pygments_lexer": "ipython3",
   "version": "3.7.4-final"
  }
 },
 "nbformat": 4,
 "nbformat_minor": 2
}