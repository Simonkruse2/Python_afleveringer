{
 "cells": [
  {
   "cell_type": "markdown",
   "metadata": {},
   "source": [
    "# Class exercise 1:\n",
    "\n",
    "![](https://miro.medium.com/max/1266/1*Pb8oEA1nGIONsSJk7QSVzg.png)"
   ]
  },
  {
   "cell_type": "code",
   "execution_count": 11,
   "metadata": {},
   "outputs": [
    {
     "name": "stdout",
     "output_type": "stream",
     "text": [
      "Write the first number019222222222222222222222222222298444\n",
      "Write the second number12\n",
      "<class 'float'>\n"
     ]
    },
    {
     "data": {
      "text/plain": [
       "2.3066666666666666e+35"
      ]
     },
     "execution_count": 11,
     "metadata": {},
     "output_type": "execute_result"
    }
   ],
   "source": [
    "float1 = int(input(\"Write the first number\"))\n",
    "float2 = float(input(\"Write the second number\")) \n",
    "print(type(float1 * float2))\n",
    "float1 * float2\n"
   ]
  },
  {
   "cell_type": "code",
   "execution_count": 20,
   "metadata": {},
   "outputs": [
    {
     "name": "stdout",
     "output_type": "stream",
     "text": [
      "293 ns ± 5.72 ns per loop (mean ± std. dev. of 7 runs, 1000000 loops each)\n"
     ]
    }
   ],
   "source": [
    "%timeit 55000 in range(1000000)"
   ]
  },
  {
   "cell_type": "code",
   "execution_count": 24,
   "metadata": {
    "collapsed": true
   },
   "outputs": [
    {
     "data": {
      "text/plain": [
       "['Simon', 'John', 'Holger', 'Karen', 'Frank', 'Franz']"
      ]
     },
     "execution_count": 24,
     "metadata": {},
     "output_type": "execute_result"
    }
   ],
   "source": [
    "names = [\"Simon\",\"John\",\"Holger\",\"Karen\",\"Frank\",\"Franz\"]\n",
    "result = [name for name in names]\n",
    "result"
   ]
  },
  {
   "cell_type": "code",
   "execution_count": 77,
   "metadata": {
    "collapsed": true
   },
   "outputs": [
    {
     "data": {
      "text/plain": [
       "['Holger', 'Hans']"
      ]
     },
     "execution_count": 77,
     "metadata": {},
     "output_type": "execute_result"
    }
   ],
   "source": [
    "# opgave 1.A Iterate a list of names to return a list of the names starting with H\n",
    "names = [\"Simon\",\"John\",\"Holger\",\"Hans\",\"Frank\",\"Franz\"]\n",
    "namesWithH = [h for h in names if h[0].lower() == \"h\" ]\n",
    "namesWithH"
   ]
  },
  {
   "cell_type": "code",
   "execution_count": 66,
   "metadata": {
    "collapsed": true
   },
   "outputs": [
    {
     "data": {
      "text/plain": [
       "[1,\n",
       " 8,\n",
       " 27,\n",
       " 64,\n",
       " 125,\n",
       " 216,\n",
       " 343,\n",
       " 512,\n",
       " 729,\n",
       " 1000,\n",
       " 1331,\n",
       " 1728,\n",
       " 2197,\n",
       " 2744,\n",
       " 3375,\n",
       " 4096,\n",
       " 4913,\n",
       " 5832,\n",
       " 6859,\n",
       " 8000,\n",
       " 9261,\n",
       " 10648,\n",
       " 12167,\n",
       " 13824,\n",
       " 15625,\n",
       " 17576,\n",
       " 19683,\n",
       " 21952,\n",
       " 24389,\n",
       " 27000,\n",
       " 29791,\n",
       " 32768,\n",
       " 35937,\n",
       " 39304,\n",
       " 42875,\n",
       " 46656,\n",
       " 50653,\n",
       " 54872,\n",
       " 59319,\n",
       " 64000,\n",
       " 68921,\n",
       " 74088,\n",
       " 79507,\n",
       " 85184,\n",
       " 91125,\n",
       " 97336,\n",
       " 103823,\n",
       " 110592,\n",
       " 117649,\n",
       " 125000,\n",
       " 132651,\n",
       " 140608,\n",
       " 148877,\n",
       " 157464,\n",
       " 166375,\n",
       " 175616,\n",
       " 185193,\n",
       " 195112,\n",
       " 205379,\n",
       " 216000,\n",
       " 226981,\n",
       " 238328,\n",
       " 250047,\n",
       " 262144,\n",
       " 274625,\n",
       " 287496,\n",
       " 300763,\n",
       " 314432,\n",
       " 328509,\n",
       " 343000,\n",
       " 357911,\n",
       " 373248,\n",
       " 389017,\n",
       " 405224,\n",
       " 421875,\n",
       " 438976,\n",
       " 456533,\n",
       " 474552,\n",
       " 493039,\n",
       " 512000,\n",
       " 531441,\n",
       " 551368,\n",
       " 571787,\n",
       " 592704,\n",
       " 614125,\n",
       " 636056,\n",
       " 658503,\n",
       " 681472,\n",
       " 704969,\n",
       " 729000,\n",
       " 753571,\n",
       " 778688,\n",
       " 804357,\n",
       " 830584,\n",
       " 857375,\n",
       " 884736,\n",
       " 912673,\n",
       " 941192,\n",
       " 970299]"
      ]
     },
     "execution_count": 66,
     "metadata": {},
     "output_type": "execute_result"
    }
   ],
   "source": [
    "# opgave 1.B In one line create a list of the numbers 1-100 to the power of 3\n",
    "numbers = [value**3 for value in range(1,100)]\n",
    "numbers\n"
   ]
  },
  {
   "cell_type": "code",
   "execution_count": 108,
   "metadata": {
    "collapsed": true
   },
   "outputs": [
    {
     "data": {
      "text/plain": [
       "((5, 'Simon'),\n",
       " (4, 'John'),\n",
       " (6, 'Holger'),\n",
       " (4, 'Hans'),\n",
       " (5, 'Frank'),\n",
       " (5, 'Franz'))"
      ]
     },
     "execution_count": 108,
     "metadata": {},
     "output_type": "execute_result"
    }
   ],
   "source": [
    "# opgave 1.C Iterate a list of names to create a list of tuples\n",
    "# where the tuples first value is the length of the name and the second is the name\n",
    "names = [\"Simon\",\"John\",\"Holger\",\"Hans\",\"Frank\",\"Franz\"]\n",
    "namesTuple = tuple([(len(name), name) for name in names])\n",
    "namesTuple"
   ]
  },
  {
   "cell_type": "code",
   "execution_count": 126,
   "metadata": {},
   "outputs": [
    {
     "data": {
      "text/plain": [
       "['1', '2', '3', '5', '5']"
      ]
     },
     "execution_count": 126,
     "metadata": {},
     "output_type": "execute_result"
    }
   ],
   "source": [
    "# opgave 1.D Iterate over each character in a string and get only those that are nummeric\n",
    "string = \"a1b2c3dd55\"\n",
    "numbers = [n for n in string if n.isdigit()]\n",
    "numbers"
   ]
  },
  {
   "cell_type": "code",
   "execution_count": 184,
   "metadata": {
    "collapsed": true
   },
   "outputs": [
    {
     "data": {
      "text/plain": [
       "{'1 + 1',\n",
       " '1 + 2',\n",
       " '1 + 3',\n",
       " '1 + 4',\n",
       " '1 + 5',\n",
       " '1 + 6',\n",
       " '2 + 1',\n",
       " '2 + 2',\n",
       " '2 + 3',\n",
       " '2 + 4',\n",
       " '2 + 5',\n",
       " '2 + 6',\n",
       " '3 + 1',\n",
       " '3 + 2',\n",
       " '3 + 3',\n",
       " '3 + 4',\n",
       " '3 + 5',\n",
       " '3 + 6',\n",
       " '4 + 1',\n",
       " '4 + 2',\n",
       " '4 + 3',\n",
       " '4 + 4',\n",
       " '4 + 5',\n",
       " '4 + 6',\n",
       " '5 + 1',\n",
       " '5 + 2',\n",
       " '5 + 3',\n",
       " '5 + 4',\n",
       " '5 + 5',\n",
       " '5 + 6',\n",
       " '6 + 1',\n",
       " '6 + 2',\n",
       " '6 + 3',\n",
       " '6 + 4',\n",
       " '6 + 5',\n",
       " '6 + 6'}"
      ]
     },
     "execution_count": 184,
     "metadata": {},
     "output_type": "execute_result"
    }
   ],
   "source": [
    "# opgave 1.E Using only a list comprehension wrapped in set() get all possible combination from throwing 2 dice\n",
    "results = {str(j) + \" + \" + str(i) for j in range(1,7) for i in range(1,7)}\n",
    "results\n",
    "            "
   ]
  },
  {
   "cell_type": "markdown",
   "metadata": {},
   "source": [
    "# Create 2 dictionary comprehensions to solve the following:\n",
    "\n"
   ]
  },
  {
   "cell_type": "code",
   "execution_count": 200,
   "metadata": {},
   "outputs": [
    {
     "data": {
      "text/plain": [
       "{'Simon': 5, 'John': 4, 'Holger': 6, 'Hans': 4, 'Frank': 5, 'Franz': 5}"
      ]
     },
     "execution_count": 200,
     "metadata": {},
     "output_type": "execute_result"
    }
   ],
   "source": [
    "# opgave 2.A Iterate a list of names and create a dictionary where key is the name and value is the length of the name\n",
    "dictNames = {name:len(name) for name in names}\n",
    "dictNames"
   ]
  },
  {
   "cell_type": "code",
   "execution_count": 206,
   "metadata": {},
   "outputs": [
    {
     "data": {
      "text/plain": [
       "{1: 1.0, 49: 7.0, 64: 8.0, 81: 9.0, 100: 10.0}"
      ]
     },
     "execution_count": 206,
     "metadata": {},
     "output_type": "execute_result"
    }
   ],
   "source": [
    "# opgave 2.B Iterate a list of numbers and create a dictionary with (key, value) being (number, squareroot of number)\n",
    "import math\n",
    "numb = [1, 49, 64, 81, 100]\n",
    "dictNumb = {number: math.sqrt(number) for number in numb}\n",
    "dictNumb"
   ]
  },
  {
   "cell_type": "code",
   "execution_count": 235,
   "metadata": {},
   "outputs": [
    {
     "data": {
      "text/plain": [
       "{2: 2.778,\n",
       " 3: 5.556,\n",
       " 4: 8.333,\n",
       " 5: 11.111,\n",
       " 6: 13.889,\n",
       " 7: 16.667,\n",
       " 8: 13.889,\n",
       " 9: 11.111,\n",
       " 10: 8.333,\n",
       " 11: 5.556,\n",
       " 12: 2.778}"
      ]
     },
     "execution_count": 235,
     "metadata": {},
     "output_type": "execute_result"
    }
   ],
   "source": [
    "# opgave 3 Progammatically using loops create a small program to produce a dictionary\n",
    "# with all the 2 dice throw combinations as keys and their likelyhood in percent as values\n",
    "\n",
    "sum = [(j) + (i)for j in range(1,7) for i in range(1,7)]\n",
    "sumDict = {sumNumb: round((sum.count(sumNumb)*100/36),3) for sumNumb in sum}\n",
    "sumDict"
   ]
  }
 ],
 "metadata": {
  "kernelspec": {
   "display_name": "Python 3",
   "language": "python",
   "name": "python3"
  },
  "language_info": {
   "codemirror_mode": {
    "name": "ipython",
    "version": 3
   },
   "file_extension": ".py",
   "mimetype": "text/x-python",
   "name": "python",
   "nbconvert_exporter": "python",
   "pygments_lexer": "ipython3",
   "version": "3.7.4"
  }
 },
 "nbformat": 4,
 "nbformat_minor": 2
}
